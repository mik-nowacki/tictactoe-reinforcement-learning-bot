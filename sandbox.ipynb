{
 "cells": [
  {
   "cell_type": "code",
   "execution_count": 36,
   "metadata": {},
   "outputs": [],
   "source": [
    "import numpy as np\n",
    "from collections import Counter\n",
    "\n",
    "sample = np.random.choice([-1, 0, 1], size=1000)\n",
    "win_logs = []\n",
    "draw_logs = []\n",
    "loss_logs = []\n",
    "for i in range(50, len(sample)+1, 50):\n",
    "    counter = Counter(sample[:i])\n",
    "    win_logs.append(counter[1])\n",
    "    draw_logs.append(counter[0])\n",
    "    loss_logs.append(counter[-1])"
   ]
  },
  {
   "cell_type": "code",
   "execution_count": 37,
   "metadata": {},
   "outputs": [
    {
     "data": {
      "text/plain": [
       "[21,\n",
       " 34,\n",
       " 49,\n",
       " 66,\n",
       " 75,\n",
       " 88,\n",
       " 102,\n",
       " 120,\n",
       " 136,\n",
       " 158,\n",
       " 175,\n",
       " 195,\n",
       " 212,\n",
       " 229,\n",
       " 245,\n",
       " 264,\n",
       " 284,\n",
       " 303,\n",
       " 324,\n",
       " 340]"
      ]
     },
     "execution_count": 37,
     "metadata": {},
     "output_type": "execute_result"
    }
   ],
   "source": [
    "win_logs"
   ]
  },
  {
   "cell_type": "code",
   "execution_count": 32,
   "metadata": {},
   "outputs": [
    {
     "data": {
      "text/plain": [
       "20"
      ]
     },
     "execution_count": 32,
     "metadata": {},
     "output_type": "execute_result"
    }
   ],
   "source": [
    "len(win_logs)"
   ]
  },
  {
   "cell_type": "code",
   "execution_count": null,
   "metadata": {},
   "outputs": [],
   "source": [
    "win_logs = []\n",
    "draw_logs = []\n",
    "loss_logs = []\n",
    "for i in range(50, len(sample)+1, 50):\n",
    "    counter = Counter(sample[:i])\n",
    "    win_logs.append(counter[1])\n",
    "    draw_logs.append(counter[0])\n",
    "    loss_logs.append(counter[-1])"
   ]
  }
 ],
 "metadata": {
  "kernelspec": {
   "display_name": "base",
   "language": "python",
   "name": "python3"
  },
  "language_info": {
   "codemirror_mode": {
    "name": "ipython",
    "version": 3
   },
   "file_extension": ".py",
   "mimetype": "text/x-python",
   "name": "python",
   "nbconvert_exporter": "python",
   "pygments_lexer": "ipython3",
   "version": "3.12.4"
  }
 },
 "nbformat": 4,
 "nbformat_minor": 2
}
